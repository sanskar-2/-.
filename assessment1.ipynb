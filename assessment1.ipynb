{
 "cells": [
  {
   "cell_type": "code",
   "execution_count": 1,
   "id": "45c84346",
   "metadata": {},
   "outputs": [],
   "source": [
    "# Functions#\n",
    "#prime function\n",
    "def isPrime(n):\n",
    "    for d in range(2,n):\n",
    "        if(n%d==0):\n",
    "            break\n",
    "    else:\n",
    "        return True\n",
    "    return False"
   ]
  },
  {
   "cell_type": "code",
   "execution_count": 2,
   "id": "8c96c835",
   "metadata": {},
   "outputs": [
    {
     "data": {
      "text/plain": [
       "True"
      ]
     },
     "execution_count": 2,
     "metadata": {},
     "output_type": "execute_result"
    }
   ],
   "source": [
    "isPrime(17)"
   ]
  },
  {
   "cell_type": "code",
   "execution_count": 4,
   "id": "c4ef2efa",
   "metadata": {},
   "outputs": [
    {
     "name": "stdout",
     "output_type": "stream",
     "text": [
      "[19, 26, 23]\n",
      "[1, 'Hello', 3.4]\n",
      "[1, 'Hello', 3.4, 'Hello', 'world']\n",
      "[]\n"
     ]
    }
   ],
   "source": [
    "#python list\n",
    "ages = [19, 26, 23]\n",
    "print(ages)\n",
    "\n",
    "list1 = [1, \"Hello\", 3.4]\n",
    "list2 = [1, \"Hello\", 3.4, \"Hello\", \"world\"]\n",
    "list3 = []\n",
    "print(list1)\n",
    "print(list2)\n",
    "print(list3)\n"
   ]
  },
  {
   "cell_type": "code",
   "execution_count": 11,
   "id": "3d6f16a6",
   "metadata": {},
   "outputs": [
    {
     "name": "stdout",
     "output_type": "stream",
     "text": [
      "{'name': 'john', 'age': 25, 'courses': ['Math', 'compsci']}\n",
      "{'name': 'john', 'age': 26, 'courses': ['Math', 'compsci'], 'phone': 9089453394}\n",
      "3\n",
      "{'name': 'john', 'courses': ['Math', 'compsci'], 'phone': 9089453394}\n",
      "26\n",
      "dict_keys(['name', 'courses', 'phone'])\n"
     ]
    }
   ],
   "source": [
    "#python dictionary\n",
    "student = {'name':'john','age':25, 'courses':['Math', 'compsci']}\n",
    "print(student)\n",
    "student.update({'name':'john','age':26, 'phone':9089453394})\n",
    "print(student)\n",
    "\n",
    "age = student.pop('age')\n",
    "print(len(student))\n",
    "print(student)\n",
    "print(age)\n",
    "print(student.keys())\n"
   ]
  },
  {
   "cell_type": "code",
   "execution_count": 1,
   "id": "d3d7812f",
   "metadata": {},
   "outputs": [
    {
     "name": "stdout",
     "output_type": "stream",
     "text": [
      "Original array: array('i', [1, 3, 5, 7, 9])\n",
      "Append 11 at the end of the array:\n",
      "New array: array('i', [1, 3, 5, 7, 9, 11])\n"
     ]
    }
   ],
   "source": [
    "# python array\n",
    "# append a new item at the end of the array\n",
    "from array import *\n",
    "array_num = array('i', [1, 3, 5, 7, 9])\n",
    "print(\"Original array: \"+str(array_num))\n",
    "print(\"Append 11 at the end of the array:\")\n",
    "array_num.append(11)\n",
    "print(\"New array: \"+str(array_num))\n"
   ]
  },
  {
   "cell_type": "code",
   "execution_count": null,
   "id": "a95dc420",
   "metadata": {},
   "outputs": [],
   "source": []
  }
 ],
 "metadata": {
  "kernelspec": {
   "display_name": "Python 3 (ipykernel)",
   "language": "python",
   "name": "python3"
  },
  "language_info": {
   "codemirror_mode": {
    "name": "ipython",
    "version": 3
   },
   "file_extension": ".py",
   "mimetype": "text/x-python",
   "name": "python",
   "nbconvert_exporter": "python",
   "pygments_lexer": "ipython3",
   "version": "3.9.12"
  }
 },
 "nbformat": 4,
 "nbformat_minor": 5
}
